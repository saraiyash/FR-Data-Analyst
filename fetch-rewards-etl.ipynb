{
 "cells": [
  {
   "cell_type": "code",
   "execution_count": 49,
   "metadata": {},
   "outputs": [
    {
     "name": "stdout",
     "output_type": "stream",
     "text": [
      "Collecting flatten_json\n",
      "  Downloading flatten_json-0.1.13.tar.gz (11 kB)\n",
      "Requirement already satisfied: six in c:\\users\\apoor\\anaconda3\\lib\\site-packages (from flatten_json) (1.15.0)\n",
      "Building wheels for collected packages: flatten-json\n",
      "  Building wheel for flatten-json (setup.py): started\n",
      "  Building wheel for flatten-json (setup.py): finished with status 'done'\n",
      "  Created wheel for flatten-json: filename=flatten_json-0.1.13-py3-none-any.whl size=7967 sha256=aa5076c7a4807f371726208784edd542d382e8bbb0c8965f026aa154fd64b8ca\n",
      "  Stored in directory: c:\\users\\apoor\\appdata\\local\\pip\\cache\\wheels\\87\\c5\\6d\\7a772fecd8d6ebae9e60d997f74b9a96ead7d5a0f26a920090\n",
      "Successfully built flatten-json\n",
      "Installing collected packages: flatten-json\n",
      "Successfully installed flatten-json-0.1.13\n",
      "Note: you may need to restart the kernel to use updated packages.\n"
     ]
    }
   ],
   "source": [
    "%pip install flatten_json"
   ]
  },
  {
   "cell_type": "code",
   "execution_count": 1,
   "metadata": {},
   "outputs": [
    {
     "name": "stderr",
     "output_type": "stream",
     "text": [
      "<ipython-input-1-3597341ab877>:31: SettingWithCopyWarning: \n",
      "A value is trying to be set on a copy of a slice from a DataFrame\n",
      "\n",
      "See the caveats in the documentation: https://pandas.pydata.org/pandas-docs/stable/user_guide/indexing.html#returning-a-view-versus-a-copy\n",
      "  df[col][i] = ts\n",
      "C:\\Users\\apoor\\anaconda3\\lib\\site-packages\\pandas\\core\\indexing.py:671: SettingWithCopyWarning: \n",
      "A value is trying to be set on a copy of a slice from a DataFrame\n",
      "\n",
      "See the caveats in the documentation: https://pandas.pydata.org/pandas-docs/stable/user_guide/indexing.html#returning-a-view-versus-a-copy\n",
      "  self._setitem_with_indexer(indexer, value)\n"
     ]
    }
   ],
   "source": [
    "import glob\n",
    "import flatten_json\n",
    "import json\n",
    "import pandas as pd\n",
    "from datetime import datetime\n",
    "\n",
    "def format_date(num):\n",
    "    try:\n",
    "        return datetime.utcfromtimestamp(int(float(num))/1000).strftime('%Y-%m-%d %H:%M:%S')\n",
    "    except:\n",
    "        return num\n",
    "\n",
    "files = glob.glob('data/*.json')\n",
    "\n",
    "## files[0] & files[3] - simpler JSON files\n",
    "\n",
    "#read file line by line and append for simpler JSON files\n",
    "simple_list = [files[0], files[2]]\n",
    "\n",
    "\n",
    "for file in simple_list:\n",
    "    temp_list = []\n",
    "    f = open(file, 'r')\n",
    "    for line in f:\n",
    "        temp_list.append(flatten_json.flatten(json.loads(line), '.'))\n",
    "    df = pd.json_normalize(temp_list)\n",
    "    for col in df.columns:\n",
    "        if '$date' in col:\n",
    "            for i in range(len(df[col])):\n",
    "                ts = format_date(str(df[col][i]))\n",
    "                df[col][i] = ts\n",
    "    df.to_csv(file.replace('.json', '.csv'), index=False)    "
   ]
  },
  {
   "cell_type": "code",
   "execution_count": 27,
   "metadata": {},
   "outputs": [],
   "source": [
    "## files[1] is receipts.json - the multi-level JSON file\n",
    "\n",
    "#read multi-level JSON file\n",
    "receipt_list = []\n",
    "for line in open(files[1], 'r'):\n",
    "    receipt = flatten_json.flatten(json.loads(line))\n",
    "    receipt_list.append(json.loads(line))\n",
    "\n",
    "receipt_df = pd.DataFrame.from_dict(pd.json_normalize(receipt_list), orient='columns')\n",
    "\n",
    "lst_unnest_dct = []\n",
    "for row in range(len(receipt_df)):\n",
    "    temp_id = receipt_df.loc[row, '_id.$oid']\n",
    "    \n",
    "    lst_rewardsReceiptItemList = receipt_df.loc[row, 'rewardsReceiptItemList']\n",
    "    try:\n",
    "        for ele in lst_rewardsReceiptItemList:    \n",
    "            ele[\"_id.$oid\"] = temp_id\n",
    "            lst_unnest_dct.append(ele)\n",
    "    except:\n",
    "        continue\n",
    "    \n",
    "unnested_rewardsReceiptItemList = pd.DataFrame(lst_unnest_dct)\n",
    "\n",
    "unnest_receipt_df = receipt_df.merge(unnested_rewardsReceiptItemList, on = \"_id.$oid\", how = 'inner' )"
   ]
  },
  {
   "cell_type": "code",
   "execution_count": 30,
   "metadata": {},
   "outputs": [
    {
     "name": "stderr",
     "output_type": "stream",
     "text": [
      "<ipython-input-30-a37e4f549039>:14: SettingWithCopyWarning: \n",
      "A value is trying to be set on a copy of a slice from a DataFrame\n",
      "\n",
      "See the caveats in the documentation: https://pandas.pydata.org/pandas-docs/stable/user_guide/indexing.html#returning-a-view-versus-a-copy\n",
      "  unnest_receipt_df[col][i] = ts\n"
     ]
    }
   ],
   "source": [
    "## convert unix timestamp by dividing by 1000ms and store it in all the $date columns\n",
    "\n",
    "for col in unnest_receipt_df.columns:\n",
    "    if '$date' in col:\n",
    "        for i in range(len(unnest_receipt_df[col])):\n",
    "            ts = format_date(str(unnest_receipt_df[col][i]))\n",
    "            unnest_receipt_df[col][i] = ts\n",
    "unnest_receipt_df.to_csv(files[1].replace('.json', '-2.csv'), index=False)"
   ]
  },
  {
   "cell_type": "code",
   "execution_count": null,
   "metadata": {},
   "outputs": [],
   "source": [
    "# The Kimball Approach. \n",
    "# The Kimball approach to building the data warehouse starts with identifying the key business processes \n",
    "# and the key business questions that the data warehouse needs to answer.\n",
    "\n",
    "# Business Questions:\n",
    "# What are the top 5 brands by receipts scanned for most recent month?\n",
    "# How does the ranking of the top 5 brands by receipts scanned for the recent month compare to the ranking for the previous month?\n",
    "# When considering average spend from receipts with 'rewardsReceiptStatus’ of ‘Accepted’ or ‘Rejected’, which is greater?\n",
    "# When considering total number of items purchased from receipts with 'rewardsReceiptStatus’ of ‘Accepted’ or ‘Rejected’, which is greater?\n",
    "# Which brand has the most spend among users who were created within the past 6 months?\n",
    "# Which brand has the most transactions among users who were created within the past 6 months?\n",
    "\n",
    "\n",
    "# References\n",
    "# https://www.kimballgroup.com/data-warehouse-business-intelligence-resources/kimball-techniques/dimensional-modeling-techniques/"
   ]
  }
 ],
 "metadata": {
  "kernelspec": {
   "display_name": "Python 3",
   "language": "python",
   "name": "python3"
  },
  "language_info": {
   "codemirror_mode": {
    "name": "ipython",
    "version": 3
   },
   "file_extension": ".py",
   "mimetype": "text/x-python",
   "name": "python",
   "nbconvert_exporter": "python",
   "pygments_lexer": "ipython3",
   "version": "3.8.3"
  }
 },
 "nbformat": 4,
 "nbformat_minor": 4
}
